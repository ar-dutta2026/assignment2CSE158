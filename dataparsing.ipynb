{
 "cells": [
  {
   "cell_type": "code",
   "execution_count": 90,
   "id": "d545425e",
   "metadata": {},
   "outputs": [],
   "source": [
    "import json\n",
    "from matplotlib import pyplot as plt\n",
    "from collections import defaultdict\n",
    "from sklearn import linear_model\n",
    "import numpy\n",
    "import random\n",
    "import gzip\n",
    "import math\n",
    "import sklearn\n",
    "import pandas\n",
    "import ast"
   ]
  },
  {
   "cell_type": "code",
   "execution_count": 91,
   "id": "d577aff3",
   "metadata": {},
   "outputs": [],
   "source": [
    "import warnings\n",
    "warnings.filterwarnings(\"ignore\")"
   ]
  },
  {
   "cell_type": "code",
   "execution_count": 92,
   "id": "1411fdeb-1dc8-4cfb-aed6-ab3bcfe8adf2",
   "metadata": {},
   "outputs": [],
   "source": [
    "filePath = \"recipes.csv\"\n",
    "recipes = pandas.read_csv(filePath)\n",
    "\n",
    "recipesDataset = []\n",
    "for _, row in recipes.iterrows():\n",
    "    recipesDataset.append({\n",
    "        \"user_id\": row[\"name\"],\n",
    "        \"recipe_id\": row[\"id\"],\n",
    "        \"minutes\": row[\"minutes\"],\n",
    "        \"contributor_id\": row[\"contributor_id\"],\n",
    "        \"submitted\": row[\"submitted\"],\n",
    "        \"tags\": row[\"tags\"],\n",
    "        \"nutrition\": row[\"nutrition\"],\n",
    "        \"n_steps\": row[\"n_steps\"],\n",
    "        \"steps\": row[\"steps\"],\n",
    "        \"description\": row[\"description\"],\n",
    "        \"ingredients\": row[\"ingredients\"],\n",
    "        \"n_ingredients\": row[\"n_ingredients\"],\n",
    "    })"
   ]
  },
  {
   "cell_type": "code",
   "execution_count": 94,
   "id": "44842972-daf1-4dfe-98ab-23739139efd1",
   "metadata": {},
   "outputs": [
    {
     "name": "stdout",
     "output_type": "stream",
     "text": [
      "{\n",
      "    \"user_id\": \"arriba   baked winter squash mexican style\",\n",
      "    \"recipe_id\": 137739,\n",
      "    \"minutes\": 55,\n",
      "    \"contributor_id\": 47892,\n",
      "    \"submitted\": \"2005-09-16\",\n",
      "    \"tags\": \"['60-minutes-or-less', 'time-to-make', 'course', 'main-ingredient', 'cuisine', 'preparation', 'occasion', 'north-american', 'side-dishes', 'vegetables', 'mexican', 'easy', 'fall', 'holiday-event', 'vegetarian', 'winter', 'dietary', 'christmas', 'seasonal', 'squash']\",\n",
      "    \"nutrition\": \"[51.5, 0.0, 13.0, 0.0, 2.0, 0.0, 4.0]\",\n",
      "    \"n_steps\": 11,\n",
      "    \"steps\": \"['make a choice and proceed with recipe', 'depending on size of squash , cut into half or fourths', 'remove seeds', 'for spicy squash , drizzle olive oil or melted butter over each cut squash piece', 'season with mexican seasoning mix ii', 'for sweet squash , drizzle melted honey , butter , grated piloncillo over each cut squash piece', 'season with sweet mexican spice mix', 'bake at 350 degrees , again depending on size , for 40 minutes up to an hour , until a fork can easily pierce the skin', 'be careful not to burn the squash especially if you opt to use sugar or butter', 'if you feel more comfortable , cover the squash with aluminum foil the first half hour , give or take , of baking', 'if desired , season with salt']\",\n",
      "    \"description\": \"autumn is my favorite time of year to cook! this recipe \\r\\ncan be prepared either spicy or sweet, your choice!\\r\\ntwo of my posted mexican-inspired seasoning mix recipes are offered as suggestions.\",\n",
      "    \"ingredients\": \"['winter squash', 'mexican seasoning', 'mixed spice', 'honey', 'butter', 'olive oil', 'salt']\",\n",
      "    \"n_ingredients\": 7\n",
      "}\n"
     ]
    }
   ],
   "source": [
    "print(json.dumps(recipesDataset[0], indent=4))"
   ]
  },
  {
   "cell_type": "code",
   "execution_count": 95,
   "id": "7a0f3df5-0e87-4d5c-8c71-40feb80fe414",
   "metadata": {},
   "outputs": [],
   "source": [
    "filePath = \"interactions.csv\"\n",
    "interactions = pandas.read_csv(filePath)\n",
    "\n",
    "interactionsDataset = []\n",
    "for _, row in interactions.iterrows():\n",
    "    interactionsDataset.append({\n",
    "        \"user_id\": row[\"user_id\"],\n",
    "        \"recipe_id\": row[\"recipe_id\"],\n",
    "        \"date\": row[\"date\"],\n",
    "        \"rating\": row[\"rating\"],\n",
    "        \"review\": row[\"review\"],\n",
    "    })"
   ]
  },
  {
   "cell_type": "code",
   "execution_count": 97,
   "id": "911f87f1-4d41-4ca6-844a-21d808771940",
   "metadata": {},
   "outputs": [
    {
     "name": "stdout",
     "output_type": "stream",
     "text": [
      "{\n",
      "    \"user_id\": 38094,\n",
      "    \"recipe_id\": 40893,\n",
      "    \"date\": \"2003-02-17\",\n",
      "    \"rating\": 4,\n",
      "    \"review\": \"Great with a salad. Cooked on top of stove for 15 minutes.Added a shake of cayenne and a pinch of salt.  Used low fat sour cream.  Thanks.\"\n",
      "}\n"
     ]
    }
   ],
   "source": [
    "print(json.dumps(interactionsDataset[0], indent=4))"
   ]
  },
  {
   "cell_type": "code",
   "execution_count": 98,
   "id": "3c12f5a4-e086-43f2-a771-1747af78d4ed",
   "metadata": {},
   "outputs": [
    {
     "name": "stdout",
     "output_type": "stream",
     "text": [
      "[NbConvertApp] Converting notebook assignment2.ipynb to python\n",
      "[NbConvertApp] Writing 1515 bytes to assignment2.py\n"
     ]
    }
   ],
   "source": [
    "!jupyter nbconvert --to python assignment2.ipynb"
   ]
  }
 ],
 "metadata": {
  "kernelspec": {
   "display_name": "Python 3 (ipykernel)",
   "language": "python",
   "name": "python3"
  },
  "language_info": {
   "codemirror_mode": {
    "name": "ipython",
    "version": 3
   },
   "file_extension": ".py",
   "mimetype": "text/x-python",
   "name": "python",
   "nbconvert_exporter": "python",
   "pygments_lexer": "ipython3",
   "version": "3.11.9"
  }
 },
 "nbformat": 4,
 "nbformat_minor": 5
}
