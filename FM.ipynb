{
 "cells": [
  {
   "cell_type": "code",
   "execution_count": 1,
   "id": "d545425e",
   "metadata": {},
   "outputs": [],
   "source": [
    "import json\n",
    "from matplotlib import pyplot as plt\n",
    "from collections import defaultdict\n",
    "from sklearn import linear_model\n",
    "from sklearn.preprocessing import OneHotEncoder\n",
    "import numpy as np\n",
    "import random\n",
    "import gzip\n",
    "import math\n",
    "import sklearn\n",
    "import pandas\n",
    "import ast\n",
    "import scipy\n",
    "import torchfm\n",
    "# from torchfm.model.fm import FactorizationMachineModel\n",
    "# import torch\n",
    "import myfm\n",
    "import scipy.sparse as sps\n",
    "import json\n",
    "import ast"
   ]
  },
  {
   "cell_type": "code",
   "execution_count": 2,
   "id": "d577aff3",
   "metadata": {},
   "outputs": [],
   "source": [
    "import warnings\n",
    "warnings.filterwarnings(\"ignore\")"
   ]
  },
  {
   "cell_type": "code",
   "execution_count": 3,
   "id": "1411fdeb-1dc8-4cfb-aed6-ab3bcfe8adf2",
   "metadata": {},
   "outputs": [],
   "source": [
    "filePath = \"recipes.csv\"\n",
    "recipes = pandas.read_csv(filePath)\n",
    "# all_tags = {}\n",
    "\n",
    "recipesDataset = {}\n",
    "for _, row in recipes.iterrows():\n",
    "    recipesDataset[row[\"id\"]] = {\n",
    "        \"name\": row[\"name\"],\n",
    "        \"recipe_id\": row[\"id\"],\n",
    "        \"minutes\": row[\"minutes\"],\n",
    "        \"contributor_id\": row[\"contributor_id\"],\n",
    "        \"submitted\": row[\"submitted\"],\n",
    "        \"tags\": row[\"tags\"],\n",
    "        \"nutrition\": row[\"nutrition\"],\n",
    "        \"n_steps\": row[\"n_steps\"],\n",
    "        \"steps\": row[\"steps\"],\n",
    "        \"description\": row[\"description\"],\n",
    "        \"ingredients\": row[\"ingredients\"],\n",
    "        \"n_ingredients\": row[\"n_ingredients\"],\n",
    "    }\n",
    "    # recipe_tags = ast.literal_eval(row[\"tags\"])\n",
    "    # for tag in recipe_tags:\n",
    "    #     if tag not in all_tags:\n",
    "    #         all_tags[tag] = len(all_tags)"
   ]
  },
  {
   "cell_type": "code",
   "execution_count": 4,
   "id": "44842972-daf1-4dfe-98ab-23739139efd1",
   "metadata": {},
   "outputs": [
    {
     "name": "stdout",
     "output_type": "stream",
     "text": [
      "{\n",
      "    \"name\": \"arriba   baked winter squash mexican style\",\n",
      "    \"recipe_id\": 137739,\n",
      "    \"minutes\": 55,\n",
      "    \"contributor_id\": 47892,\n",
      "    \"submitted\": \"2005-09-16\",\n",
      "    \"tags\": \"['60-minutes-or-less', 'time-to-make', 'course', 'main-ingredient', 'cuisine', 'preparation', 'occasion', 'north-american', 'side-dishes', 'vegetables', 'mexican', 'easy', 'fall', 'holiday-event', 'vegetarian', 'winter', 'dietary', 'christmas', 'seasonal', 'squash']\",\n",
      "    \"nutrition\": \"[51.5, 0.0, 13.0, 0.0, 2.0, 0.0, 4.0]\",\n",
      "    \"n_steps\": 11,\n",
      "    \"steps\": \"['make a choice and proceed with recipe', 'depending on size of squash , cut into half or fourths', 'remove seeds', 'for spicy squash , drizzle olive oil or melted butter over each cut squash piece', 'season with mexican seasoning mix ii', 'for sweet squash , drizzle melted honey , butter , grated piloncillo over each cut squash piece', 'season with sweet mexican spice mix', 'bake at 350 degrees , again depending on size , for 40 minutes up to an hour , until a fork can easily pierce the skin', 'be careful not to burn the squash especially if you opt to use sugar or butter', 'if you feel more comfortable , cover the squash with aluminum foil the first half hour , give or take , of baking', 'if desired , season with salt']\",\n",
      "    \"description\": \"autumn is my favorite time of year to cook! this recipe \\r\\ncan be prepared either spicy or sweet, your choice!\\r\\ntwo of my posted mexican-inspired seasoning mix recipes are offered as suggestions.\",\n",
      "    \"ingredients\": \"['winter squash', 'mexican seasoning', 'mixed spice', 'honey', 'butter', 'olive oil', 'salt']\",\n",
      "    \"n_ingredients\": 7\n",
      "}\n"
     ]
    }
   ],
   "source": [
    "print(json.dumps(recipesDataset[next(iter(recipesDataset))], indent=4))"
   ]
  },
  {
   "cell_type": "code",
   "execution_count": 5,
   "id": "7a0f3df5-0e87-4d5c-8c71-40feb80fe414",
   "metadata": {},
   "outputs": [],
   "source": [
    "filePath = \"interactions.csv\"\n",
    "interactions = pandas.read_csv(filePath)\n",
    "\n",
    "interactionsDataset = []\n",
    "for _, row in interactions.iterrows():\n",
    "    interactionsDataset.append({\n",
    "        \"user_id\": row[\"user_id\"],\n",
    "        \"recipe_id\": row[\"recipe_id\"],\n",
    "        \"date\": row[\"date\"],\n",
    "        \"rating\": row[\"rating\"],\n",
    "        \"review\": row[\"review\"],\n",
    "    })"
   ]
  },
  {
   "cell_type": "code",
   "execution_count": 6,
   "id": "911f87f1-4d41-4ca6-844a-21d808771940",
   "metadata": {},
   "outputs": [
    {
     "name": "stdout",
     "output_type": "stream",
     "text": [
      "{\n",
      "    \"user_id\": 38094,\n",
      "    \"recipe_id\": 40893,\n",
      "    \"date\": \"2003-02-17\",\n",
      "    \"rating\": 4,\n",
      "    \"review\": \"Great with a salad. Cooked on top of stove for 15 minutes.Added a shake of cayenne and a pinch of salt.  Used low fat sour cream.  Thanks.\"\n",
      "}\n"
     ]
    }
   ],
   "source": [
    "print(json.dumps(interactionsDataset[0], indent=4))"
   ]
  },
  {
   "cell_type": "code",
   "execution_count": 7,
   "id": "1c0abdc6",
   "metadata": {},
   "outputs": [],
   "source": [
    "userIDs,itemIDs = {},{}\n",
    "\n",
    "for d in interactionsDataset:\n",
    "    u,i = d['user_id'],d['recipe_id']\n",
    "    if not u in userIDs: userIDs[u] = len(userIDs)\n",
    "    if not i in itemIDs: itemIDs[i] = len(itemIDs)\n",
    "\n",
    "nUsers,nItems = len(userIDs),len(itemIDs)"
   ]
  },
  {
   "cell_type": "code",
   "execution_count": 8,
   "id": "f6872e76",
   "metadata": {},
   "outputs": [
    {
     "data": {
      "text/plain": [
       "(226570, 231637)"
      ]
     },
     "execution_count": 8,
     "metadata": {},
     "output_type": "execute_result"
    }
   ],
   "source": [
    "nUsers,nItems"
   ]
  },
  {
   "cell_type": "code",
   "execution_count": 9,
   "id": "b232eefd",
   "metadata": {},
   "outputs": [],
   "source": [
    "ohe = OneHotEncoder(handle_unknown='ignore')"
   ]
  },
  {
   "cell_type": "code",
   "execution_count": 10,
   "id": "d01056f9",
   "metadata": {},
   "outputs": [],
   "source": [
    "tags_desc = pandas.read_csv('tags_desc.csv')\n",
    "tags_encoding = {}\n",
    "\n",
    "i = 0\n",
    "for _, row in tags_desc.iterrows():\n",
    "    tags_encoding[row['tag']] = i\n",
    "    i += 1\n",
    "\n",
    "tags_asc = pandas.read_csv('tags_asc.csv')\n",
    "for _, row in tags_asc.iterrows():\n",
    "    tags_encoding[row['tag']] = i\n",
    "    i += 1"
   ]
  },
  {
   "cell_type": "code",
   "execution_count": null,
   "id": "1f59b39b",
   "metadata": {},
   "outputs": [],
   "source": [
    "X = []\n",
    "y = []\n",
    "features = []\n",
    "for d in interactionsDataset:\n",
    "    u = d['user_id']\n",
    "    i = d['recipe_id']\n",
    "    steps = recipesDataset[i]['n_steps']\n",
    "    sugar = json.loads(recipesDataset[i]['nutrition'])[2]\n",
    "    protein = json.loads(recipesDataset[i]['nutrition'])[4]\n",
    "    recipe_tags = ast.literal_eval(recipesDataset[i][\"tags\"])\n",
    "    row = []\n",
    "    # if steps <= 30:     #n_steps: 0-30, 31-50, 51+\n",
    "    #     row += [1,0,0]\n",
    "    # elif steps <= 50:\n",
    "    #     row += [0,1,0]\n",
    "    # else:\n",
    "    #     row += [0,0,1]\n",
    "\n",
    "    # protein_bucket = int(protein / 5) if protein < 50 else 9\n",
    "    # proteins = [0] * 10\n",
    "    # proteins[protein_bucket] = 1\n",
    "    # row += proteins\n",
    "\n",
    "    sugar_bucket = int(sugar / 5) if sugar < 100 else 19\n",
    "    sugars = [0] * 20\n",
    "    sugars[sugar_bucket] = 1\n",
    "    row += sugars\n",
    "\n",
    "    # tags = [0] * len(all_tags)\n",
    "    # for tag in recipe_tags:\n",
    "    #     tags[all_tags[tag]] = 1\n",
    "    # row += tags\n",
    "\n",
    "    tags = [0] * len(tags_encoding)\n",
    "    for tag in recipe_tags:\n",
    "        if tag in tags_encoding:\n",
    "            tags[tags_encoding[tag]] = 1\n",
    "    row += tags\n",
    "    features.append(row) \n",
    "    X.append([userIDs[u], itemIDs[i]])\n",
    "    y.append(d['rating'])\n",
    "split = int(len(X)*0.9)"
   ]
  },
  {
   "cell_type": "code",
   "execution_count": 21,
   "id": "a9fdd44a",
   "metadata": {},
   "outputs": [],
   "source": [
    "Xtrain = ohe.fit_transform(np.array(X[:split]))\n",
    "ytrain = np.array(y[:split])\n",
    "Xtest = ohe.transform(np.array(X[split:]))\n",
    "ytest = np.array(y[split:])\n",
    "features_train = np.array(features[:split])\n",
    "features_test = np.array(features[split:])"
   ]
  },
  {
   "cell_type": "code",
   "execution_count": 22,
   "id": "72875eea",
   "metadata": {},
   "outputs": [
    {
     "data": {
      "text/plain": [
       "(1019130, 418002)"
      ]
     },
     "execution_count": 22,
     "metadata": {},
     "output_type": "execute_result"
    }
   ],
   "source": [
    "Xtrain.shape"
   ]
  },
  {
   "cell_type": "code",
   "execution_count": 23,
   "id": "53af9454",
   "metadata": {},
   "outputs": [],
   "source": [
    "X_train = sps.hstack([Xtrain, features_train])\n",
    "X_test = sps.hstack([Xtest, features_test])"
   ]
  },
  {
   "cell_type": "code",
   "execution_count": null,
   "id": "0408e74d",
   "metadata": {},
   "outputs": [],
   "source": [
    "fm = myfm.MyFMRegressor(rank=5)"
   ]
  },
  {
   "cell_type": "code",
   "execution_count": 31,
   "id": "bdacce23",
   "metadata": {},
   "outputs": [
    {
     "name": "stderr",
     "output_type": "stream",
     "text": [
      "alpha = 1.07 w0 = 4.11 : 100%|██████████| 100/100 [00:46<00:00,  2.15it/s]\n"
     ]
    },
    {
     "data": {
      "text/plain": [
       "<myfm.gibbs.MyFMGibbsRegressor at 0x20dd363fd90>"
      ]
     },
     "execution_count": 31,
     "metadata": {},
     "output_type": "execute_result"
    }
   ],
   "source": [
    "fm.fit(X_train, ytrain, n_iter=100)"
   ]
  },
  {
   "cell_type": "code",
   "execution_count": 32,
   "id": "abef8717",
   "metadata": {},
   "outputs": [],
   "source": [
    "prediction = fm.predict(X_test)"
   ]
  },
  {
   "cell_type": "code",
   "execution_count": 33,
   "id": "525cdf2e",
   "metadata": {},
   "outputs": [
    {
     "data": {
      "text/plain": [
       "array([4.24829565, 4.7609565 , 4.78880742, ..., 4.58918249, 4.59242912,\n",
       "       4.17245185])"
      ]
     },
     "execution_count": 33,
     "metadata": {},
     "output_type": "execute_result"
    }
   ],
   "source": [
    "prediction"
   ]
  },
  {
   "cell_type": "code",
   "execution_count": 34,
   "id": "2b0ced2e",
   "metadata": {},
   "outputs": [
    {
     "name": "stdout",
     "output_type": "stream",
     "text": [
      "1.1891012220922386\n"
     ]
    }
   ],
   "source": [
    "print(((ytest - prediction)**2).mean()**.5)"
   ]
  },
  {
   "cell_type": "markdown",
   "id": "a1dbedb7",
   "metadata": {},
   "source": [
    "rank 1, 80/20, 1000 iter, MSE: 1.1997331904645177\n",
    "rank 2, 90/10, 100 iter, MSE: 1.1892600032936387\n",
    "rank 1, 90/10, 100 iter, MSE: 1.1891660151304382\n",
    "rank 5, 90/10, 100 iter, MSE: 1.189063754787245\n",
    "rank 3, 90/10, 100 iter, MSE: 1.1891654617759837\n",
    "rank 5, 90/10, 100 iter, n_steps, MSE: 1.1896700940789633\n",
    "rank 5, 90/10, 1000 iter, n_steps, MSE: 1.1890897607570092\n",
    "rank 3, 90/10, 100 iter, n_steps, MSE: 1.188501736141432\n",
    "rank 2, 90/10, 100 iter, n_steps, MSE: 1.1890215516655562\n",
    "rank 4, 90/10, 100 iter, n_steps, MSE: 1.1898952933103657\n",
    "rank 1, 90/10, 100 iter, n_steps, MSE: 1.1893514310273694\n",
    "rank 5, 90/10, 100 iter, sugar, MSE: 1.1885092216834368\n",
    "rank 3, 90/10, 100 iter, sugar, MSE: 1.188272832598858\n",
    "rank 4, 90/10, 100 iter, sugar, MSE: 1.1878161153746627\n",
    "rank 2, 90/10, 100 iter, sugar, MSE: 1.1880467187381674\n",
    "rank 6, 90/10, 100 iter, sugar, MSE: 1.188239250596974\n",
    "rank 5, 90/10, 100 iter, n_steps, sugar, MSE: 1.1917040793538252\n",
    "rank 3, 90/10, 100 iter, n_steps, sugar, MSE: 1.1895674636726772\n",
    "rank 4, 90/10, 100 iter, n_steps, sugar, MSE: 1.1897596852091208\n",
    "rank 5, 90/10, 100 iter, tags, MSE: 1.1890169239678001\n",
    "rank 3, 90/10, 100 iter, tags, MSE: 1.19212364114989\n",
    "rank 4, 90/10, 100 iter, tags, MSE: 1.1898348454922785\n",
    "rank 5, 90/10, 100 iter, sugar, tags, MSE 1.1887483367286866\n",
    "rank 3, 90/10, 100 iter, sugar, tags, MSE: 1.18968113283392\n",
    "rank 4, 90/10, 100 iter, sugar, tags, MSE: 1.1904847477649545\n",
    "rank 5, 90/10, 100 iter, sugar, limited_tags, MSE: 1.1869605050351804\n",
    "rank 4, 90/10, 100 iter, sugar, limited_tags, MSE: 1.1871103041220747\n",
    "rank 3, 90/10, 100 iter, sugar, limited_tags, MSE: 1.187576596016662\n",
    "rank 6, 90/10, 100 iter, sugar, limited_tags, MSE: 1.1875879363862554\n",
    "rank 5, 90/10, 100 iter, limited_tags, MSE: 1.1888888154188257\n",
    "rank 4, 90/10, 100 iter, limited_tags, MSE: 1.1887386814606198\n",
    "rank 3, 90/10, 100 iter, limited_tags, MSE: 1.1891012220922386\n",
    "rank 5, 90/10, 100 iter, n_steps, sugar, limited_tags, MSE: 1.1905230684773915\n",
    "rank 5, 90/10, 100 iter, protein, MSE: 1.188244128228723\n",
    "rank 3, 90/10, 100 iter, protein, MSE: 1.1884093586673925\n",
    "rank 5, 90/10, 100 iter, sugar, protein, MSE: 1.1874592317739308\n",
    "rank 4, 90/10, 100 iter, sugar, protein, MSE: 1.1881269345816998\n",
    "rank 3, 90/10, 100 iter, sugar, protein, MSE: 1.1890019773684568\n",
    "rank 5, 90/10, 100 iter, protein, limited_tags, MSE: 1.1875904309334224\n",
    "rank 4, 90/10, 100 iter, protein, limited_tags, MSE: 1.1879463496242961\n",
    "rank 3, 90/10, 100 iter, protein, limited_tags, MSE: 1.1875456374580644\n",
    "rank 5, 90/10, 100 iter, sugar, protein, limited_tags, MSE: 1.188361885740543"
   ]
  },
  {
   "cell_type": "code",
   "execution_count": null,
   "id": "f4a1da01",
   "metadata": {},
   "outputs": [],
   "source": [
    "# model = fm.run(X[:split], y[:split], X[split:], y[split:])"
   ]
  },
  {
   "cell_type": "code",
   "execution_count": null,
   "id": "3c12f5a4-e086-43f2-a771-1747af78d4ed",
   "metadata": {},
   "outputs": [
    {
     "name": "stdout",
     "output_type": "stream",
     "text": [
      "[NbConvertApp] Converting notebook assignment2.ipynb to python\n",
      "[NbConvertApp] Writing 1515 bytes to assignment2.py\n"
     ]
    }
   ],
   "source": [
    "#!jupyter nbconvert --to python assignment2.ipynb"
   ]
  }
 ],
 "metadata": {
  "kernelspec": {
   "display_name": "base",
   "language": "python",
   "name": "python3"
  },
  "language_info": {
   "codemirror_mode": {
    "name": "ipython",
    "version": 3
   },
   "file_extension": ".py",
   "mimetype": "text/x-python",
   "name": "python",
   "nbconvert_exporter": "python",
   "pygments_lexer": "ipython3",
   "version": "3.11.7"
  }
 },
 "nbformat": 4,
 "nbformat_minor": 5
}
