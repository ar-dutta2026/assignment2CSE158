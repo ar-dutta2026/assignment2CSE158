{
 "cells": [
  {
   "cell_type": "code",
   "execution_count": 75,
   "id": "d545425e",
   "metadata": {},
   "outputs": [],
   "source": [
    "import json\n",
    "from matplotlib import pyplot as plt\n",
    "from collections import defaultdict\n",
    "from sklearn import linear_model\n",
    "from sklearn.metrics import mean_squared_error\n",
    "import numpy\n",
    "import random\n",
    "import gzip\n",
    "import math\n",
    "import sklearn\n",
    "import pandas\n",
    "import ast\n",
    "import csv"
   ]
  },
  {
   "cell_type": "code",
   "execution_count": 76,
   "id": "d577aff3",
   "metadata": {},
   "outputs": [],
   "source": [
    "import warnings\n",
    "warnings.filterwarnings(\"ignore\")"
   ]
  },
  {
   "cell_type": "code",
   "execution_count": 77,
   "id": "1411fdeb-1dc8-4cfb-aed6-ab3bcfe8adf2",
   "metadata": {},
   "outputs": [],
   "source": [
    "filePath = \"recipes.csv\"\n",
    "recipes = pandas.read_csv(filePath)\n",
    "\n",
    "recipesDataset = {}\n",
    "for _, row in recipes.iterrows():\n",
    "    recipesDataset[row[\"id\"]] = {\n",
    "        \"name\": row[\"name\"],\n",
    "        \"minutes\": row[\"minutes\"],\n",
    "        \"contributor_id\": row[\"contributor_id\"],\n",
    "        \"submitted\": row[\"submitted\"],\n",
    "        \"tags\": row[\"tags\"],\n",
    "        \"nutrition\": row[\"nutrition\"],\n",
    "        \"n_steps\": row[\"n_steps\"],\n",
    "        \"steps\": row[\"steps\"],\n",
    "        \"description\": row[\"description\"],\n",
    "        \"ingredients\": row[\"ingredients\"],\n",
    "        \"n_ingredients\": row[\"n_ingredients\"]\n",
    "    }"
   ]
  },
  {
   "cell_type": "code",
   "execution_count": 78,
   "id": "c07b7072-416f-4d29-9459-45cc28f9a913",
   "metadata": {},
   "outputs": [
    {
     "name": "stdout",
     "output_type": "stream",
     "text": [
      "Recipe ID: 137739\n",
      "{\n",
      "    \"name\": \"arriba   baked winter squash mexican style\",\n",
      "    \"minutes\": 55,\n",
      "    \"contributor_id\": 47892,\n",
      "    \"submitted\": \"2005-09-16\",\n",
      "    \"tags\": \"['60-minutes-or-less', 'time-to-make', 'course', 'main-ingredient', 'cuisine', 'preparation', 'occasion', 'north-american', 'side-dishes', 'vegetables', 'mexican', 'easy', 'fall', 'holiday-event', 'vegetarian', 'winter', 'dietary', 'christmas', 'seasonal', 'squash']\",\n",
      "    \"nutrition\": \"[51.5, 0.0, 13.0, 0.0, 2.0, 0.0, 4.0]\",\n",
      "    \"n_steps\": 11,\n",
      "    \"steps\": \"['make a choice and proceed with recipe', 'depending on size of squash , cut into half or fourths', 'remove seeds', 'for spicy squash , drizzle olive oil or melted butter over each cut squash piece', 'season with mexican seasoning mix ii', 'for sweet squash , drizzle melted honey , butter , grated piloncillo over each cut squash piece', 'season with sweet mexican spice mix', 'bake at 350 degrees , again depending on size , for 40 minutes up to an hour , until a fork can easily pierce the skin', 'be careful not to burn the squash especially if you opt to use sugar or butter', 'if you feel more comfortable , cover the squash with aluminum foil the first half hour , give or take , of baking', 'if desired , season with salt']\",\n",
      "    \"description\": \"autumn is my favorite time of year to cook! this recipe \\r\\ncan be prepared either spicy or sweet, your choice!\\r\\ntwo of my posted mexican-inspired seasoning mix recipes are offered as suggestions.\",\n",
      "    \"ingredients\": \"['winter squash', 'mexican seasoning', 'mixed spice', 'honey', 'butter', 'olive oil', 'salt']\",\n",
      "    \"n_ingredients\": 7\n",
      "}\n",
      "\n"
     ]
    }
   ],
   "source": [
    "for recipe_id, attributes in list(recipesDataset.items())[:1]:\n",
    "    print(f\"Recipe ID: {recipe_id}\")\n",
    "    print(json.dumps(attributes, indent=4))\n",
    "    print()"
   ]
  },
  {
   "cell_type": "code",
   "execution_count": 79,
   "id": "7a0f3df5-0e87-4d5c-8c71-40feb80fe414",
   "metadata": {},
   "outputs": [],
   "source": [
    "filePath = \"interactions.csv\"\n",
    "interactions = pandas.read_csv(filePath)\n",
    "\n",
    "interactionsDataset = []\n",
    "for _, row in interactions.iterrows():\n",
    "    interactionsDataset.append({\n",
    "        \"user_id\": row[\"user_id\"],\n",
    "        \"recipe_id\": row[\"recipe_id\"],\n",
    "        \"date\": row[\"date\"],\n",
    "        \"rating\": row[\"rating\"],\n",
    "        \"review\": row[\"review\"],\n",
    "    })"
   ]
  },
  {
   "cell_type": "code",
   "execution_count": 80,
   "id": "911f87f1-4d41-4ca6-844a-21d808771940",
   "metadata": {},
   "outputs": [
    {
     "name": "stdout",
     "output_type": "stream",
     "text": [
      "{\n",
      "    \"user_id\": 38094,\n",
      "    \"recipe_id\": 40893,\n",
      "    \"date\": \"2003-02-17\",\n",
      "    \"rating\": 4,\n",
      "    \"review\": \"Great with a salad. Cooked on top of stove for 15 minutes.Added a shake of cayenne and a pinch of salt.  Used low fat sour cream.  Thanks.\"\n",
      "}\n"
     ]
    }
   ],
   "source": [
    "print(json.dumps(interactionsDataset[0], indent=4))"
   ]
  },
  {
   "cell_type": "code",
   "execution_count": 81,
   "id": "826721f8-18b9-45cd-be42-c9d8c7cfd643",
   "metadata": {},
   "outputs": [
    {
     "name": "stdout",
     "output_type": "stream",
     "text": [
      "(1293707, 40893, 5)\n",
      "1132367\n"
     ]
    }
   ],
   "source": [
    "allRatings = [\n",
    "    (entry[\"user_id\"], entry[\"recipe_id\"], entry[\"rating\"])\n",
    "    for entry in interactionsDataset\n",
    "]\n",
    "\n",
    "print(allRatings[1])\n",
    "print(len(allRatings))"
   ]
  },
  {
   "cell_type": "code",
   "execution_count": 82,
   "id": "d2bd28df-a17a-4987-83d7-599a6dfd1ff6",
   "metadata": {},
   "outputs": [],
   "source": [
    "ratingsTrain = allRatings[:950000]\n",
    "ratingsValid = allRatings[950000:1000000]\n",
    "ratingsTest = allRatings[1000000:]\n",
    "ratingsPerUser = defaultdict(list)\n",
    "ratingsPerItem = defaultdict(list)\n",
    "for u,b,r in ratingsTrain:\n",
    "    ratingsPerUser[u].append((b,r))\n",
    "    ratingsPerItem[b].append((u,r))"
   ]
  },
  {
   "cell_type": "code",
   "execution_count": 83,
   "id": "a07267bc-1b3d-4183-9045-bc7b66d3ffdd",
   "metadata": {},
   "outputs": [],
   "source": [
    "filename = \"pairs_Rating.csv\"\n",
    "\n",
    "with open(filename, mode=\"w\", newline=\"\") as file:\n",
    "    writer = csv.writer(file)\n",
    "    writer.writerow([\"userID\", \"recipeID\", \"prediction\"])\n",
    "    for u, r, _ in ratingsTest:\n",
    "        writer.writerow([u, r, \"\"])"
   ]
  },
  {
   "cell_type": "code",
   "execution_count": 84,
   "id": "92687834-2bef-408b-ade7-6a1e30b5242d",
   "metadata": {},
   "outputs": [],
   "source": [
    "betaU = {u: numpy.random.normal(0, 0.01) for u in ratingsPerUser}\n",
    "betaI = {b: numpy.random.normal(0, 0.01) for b in ratingsPerItem}\n",
    "\n",
    "ratings = numpy.array([r for _, _, r in ratingsTrain])\n",
    "alpha = numpy.mean(ratings)"
   ]
  },
  {
   "cell_type": "code",
   "execution_count": 85,
   "id": "829b9044-185f-4e11-8d69-6ddd9c9c37b8",
   "metadata": {},
   "outputs": [],
   "source": [
    "def iterate(lamb):\n",
    "    newAlpha = 0\n",
    "    for u,b,r in ratingsTrain:\n",
    "        newAlpha += r - (betaU[u] + betaI[b])\n",
    "    alpha = newAlpha / len(ratingsTrain)\n",
    "    for u in ratingsPerUser:\n",
    "        newBetaU = 0\n",
    "        for b,r in ratingsPerUser[u]:\n",
    "            newBetaU += r - (alpha + betaI[b])\n",
    "        betaU[u] = newBetaU / (lamb + len(ratingsPerUser[u]))\n",
    "    for b in ratingsPerItem:\n",
    "        newBetaI = 0\n",
    "        for u,r in ratingsPerItem[b]:\n",
    "            newBetaI += r - (alpha + betaU[u])\n",
    "        betaI[b] = newBetaI / (lamb + len(ratingsPerItem[b]))\n",
    "    mse = 0\n",
    "    for u,b,r in ratingsTrain:\n",
    "        prediction = alpha + betaU[u] + betaI[b]\n",
    "        mse += (r - prediction) ** 2\n",
    "    regularizer = 0\n",
    "    for u in betaU:\n",
    "        regularizer += betaU[u] ** 2\n",
    "    for b in betaI:\n",
    "        regularizer += betaI[b] ** 2\n",
    "    mse /= len(ratingsTrain)\n",
    "    return mse, mse + lamb * regularizer"
   ]
  },
  {
   "cell_type": "code",
   "execution_count": 86,
   "id": "233c634a-02ad-43e9-96f5-5e4515e7fda2",
   "metadata": {},
   "outputs": [],
   "source": [
    "mse, objective = iterate(1)\n",
    "newMSE, newObjective = iterate(1)\n",
    "\n",
    "while objective - newObjective > 0.00001:\n",
    "    mse, objective = newMSE, newObjective\n",
    "    newMSE, newObjective = iterate(4.7)"
   ]
  },
  {
   "cell_type": "code",
   "execution_count": 101,
   "id": "df1f96a9-bc4d-4758-8237-56a2d75db92e",
   "metadata": {},
   "outputs": [],
   "source": [
    "predicted = []\n",
    "\n",
    "predictions = open(\"predictions_Rating.csv\", 'w')\n",
    "for l in open(\"pairs_Rating.csv\"):\n",
    "    if l.startswith(\"userID\"): # header\n",
    "        predictions.write(l)\n",
    "        continue\n",
    "    parts = l.strip().split(',')\n",
    "    u, b = int(parts[0]), int(parts[1])\n",
    "\n",
    "    wu, wi = 1.1, 0.8\n",
    "    \n",
    "    bu = 0\n",
    "    bi = 0\n",
    "    if u in betaU:\n",
    "        bu = betaU[u]\n",
    "    if b in betaI:\n",
    "        bi = betaI[b]\n",
    "    prediction = alpha + wu * bu + wi * bi\n",
    "\n",
    "    if prediction > 5: prediction = 5\n",
    "    predicted.append(prediction)\n",
    "    predictions.write(f\"{u},{b},{prediction}\\n\")\n",
    "\n",
    "predictions.close()"
   ]
  },
  {
   "cell_type": "code",
   "execution_count": 102,
   "id": "d9c8b4eb-670f-4533-9048-2c46f27a34f0",
   "metadata": {},
   "outputs": [
    {
     "name": "stdout",
     "output_type": "stream",
     "text": [
      "1.4933149453451318\n"
     ]
    }
   ],
   "source": [
    "actual = [rating for _, _, rating in ratingsTest]\n",
    "mse = mean_squared_error(actual, predicted)\n",
    "\n",
    "print(mse)"
   ]
  },
  {
   "cell_type": "code",
   "execution_count": 89,
   "id": "3c12f5a4-e086-43f2-a771-1747af78d4ed",
   "metadata": {},
   "outputs": [
    {
     "name": "stdout",
     "output_type": "stream",
     "text": [
      "[NbConvertApp] Converting notebook assignment2.ipynb to python\n",
      "[NbConvertApp] Writing 4434 bytes to assignment2.py\n"
     ]
    }
   ],
   "source": [
    "!jupyter nbconvert --to python assignment2.ipynb"
   ]
  }
 ],
 "metadata": {
  "kernelspec": {
   "display_name": "Python 3 (ipykernel)",
   "language": "python",
   "name": "python3"
  },
  "language_info": {
   "codemirror_mode": {
    "name": "ipython",
    "version": 3
   },
   "file_extension": ".py",
   "mimetype": "text/x-python",
   "name": "python",
   "nbconvert_exporter": "python",
   "pygments_lexer": "ipython3",
   "version": "3.11.9"
  }
 },
 "nbformat": 4,
 "nbformat_minor": 5
}
